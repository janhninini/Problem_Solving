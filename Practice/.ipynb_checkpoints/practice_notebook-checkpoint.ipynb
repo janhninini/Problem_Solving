{
 "cells": [
  {
   "cell_type": "markdown",
   "metadata": {},
   "source": []
  },
  {
   "cell_type": "code",
   "execution_count": 15,
   "metadata": {
    "tags": []
   },
   "outputs": [
    {
     "name": "stdout",
     "output_type": "stream",
     "text": [
      "1004\n"
     ]
    }
   ],
   "source": [
    "n = 1004\n",
    "n = str(n)\n",
    "n = list(n)\n",
    "for i in n:\n",
    "    if  i == \"0\":\n",
    "        i = \"5\"\n",
    "n = \"\".join(n)\n",
    "n = int(n)\n",
    "print(n)"
   ]
  },
  {
   "cell_type": "code",
   "execution_count": 16,
   "metadata": {
    "tags": []
   },
   "outputs": [
    {
     "name": "stdout",
     "output_type": "stream",
     "text": [
      "['1', '5', '5', '4']\n",
      "1554\n"
     ]
    }
   ],
   "source": [
    "n = 1004\n",
    "n = str(n)\n",
    "n = list(n)\n",
    "for i in range(len(n)):\n",
    "    if n[i] == \"0\":\n",
    "        n[i] = \"5\"\n",
    "print(n)\n",
    "n = \"\".join(n)\n",
    "n = int(n)\n",
    "print(n)"
   ]
  },
  {
   "cell_type": "code",
   "execution_count": 23,
   "metadata": {
    "tags": []
   },
   "outputs": [
    {
     "name": "stdout",
     "output_type": "stream",
     "text": [
      "68 51 34 43 39 46 48 50 51 47 47 49 48 49 52 54 54 52 51 53 51 49 49 51 52 51 50 49 50 50 49 50 50 50 49 50 51 51 52 51 50 49"
     ]
    }
   ],
   "source": [
    "t = int(input())\n",
    "for i in range(t):\n",
    "    n = int(input())\n",
    "    a = list(map(int, input().split()))\n",
    "    sum = 0\n",
    "\n",
    "    for i in range(n):\n",
    "        \n",
    "        sum = sum + a[i]\n",
    "        avg = sum//(i+1)\n",
    "        print(avg, end = \" \")\n",
    "        "
   ]
  },
  {
   "cell_type": "code",
   "execution_count": null,
   "metadata": {},
   "outputs": [],
   "source": [
    "t = int(input())\n",
    "n = int(input())\n",
    "s = input()\n",
    "b = \"abacaba\"\n",
    "m = 7\n",
    "def count(s,b,n,m):\n",
    "    if (n==0):\n",
    "        return 0\n",
    "\n",
    "    if (s[n-1] == b[m-1]):\n",
    "        return (count(s,b,n-1,m-1))\n",
    "    else:\n",
    "        return count(s,b,n-1,m)\n",
    "        "
   ]
  },
  {
   "cell_type": "code",
   "execution_count": 27,
   "metadata": {
    "tags": []
   },
   "outputs": [
    {
     "ename": "SyntaxError",
     "evalue": "invalid syntax (<ipython-input-27-a5824f25f9b6>, line 13)",
     "output_type": "error",
     "traceback": [
      "\u001b[1;36m  File \u001b[1;32m\"<ipython-input-27-a5824f25f9b6>\"\u001b[1;36m, line \u001b[1;32m13\u001b[0m\n\u001b[1;33m    else if\u001b[0m\n\u001b[1;37m          ^\u001b[0m\n\u001b[1;31mSyntaxError\u001b[0m\u001b[1;31m:\u001b[0m invalid syntax\n"
     ]
    }
   ],
   "source": [
    "t = int(input())\n",
    "n = int(input())\n",
    "s = input()\n",
    "b = \"abacaba\"\n",
    "c = 0\n",
    "cq = 0\n",
    "for i in range(n-7+1):\n",
    "    if s[i:i+7]==b:\n",
    "        c = c+1\n",
    "    \n",
    "    if s[i]==\"?\":\n",
    "        cq = cq+1\n",
    "    \n",
    "print(c)\n",
    "\n",
    "if c > 1:\n",
    "    print(\"No\")\n",
    "elif cq >= 7 and c==0:\n",
    "    print(\"yes\")\n",
    "\n"
   ]
  },
  {
   "cell_type": "code",
   "execution_count": null,
   "metadata": {},
   "outputs": [],
   "source": [
    "for i in range(int(input())):\n",
    "    c,r =map(int, input().split())\n",
    "    \n",
    "\n",
    "    q = c//9\n",
    "    s = r//9\n",
    "    if q == s and r%9 == 0:\n",
    "        print(1, s)\n",
    "    elif q == s and r%9 != 0:\n",
    "        print(1, s+1)\n",
    "    elif q<s and c%9 == 0:\n",
    "        print(0, q)\n",
    "    elif q<s and c%9 != 0:\n",
    "        print(0, q+1)\n",
    "    elif q>s and r%9 == 0:\n",
    "        print(1, s)\n",
    "    elif q>s and r%9 != 0:\n",
    "        print(1, s+1)\n"
   ]
  },
  {
   "cell_type": "code",
   "execution_count": null,
   "metadata": {},
   "outputs": [],
   "source": [
    "from itertools import permutations\n",
    "for i in range(int(input())):\n",
    "    s = input()\n",
    "    p = input()\n",
    "    l = []\n",
    "    for i in permutations(s):\n",
    "        l.append(\"\".join(i))\n",
    "    print(l)\n",
    "    \n"
   ]
  },
  {
   "cell_type": "code",
   "execution_count": null,
   "metadata": {},
   "outputs": [],
   "source": [
    "from itertools import permutations\n",
    "for i in range(int(input())):\n",
    "    s = input()\n",
    "    p = input()\n",
    "    l = []\n",
    "    for i in permutations(s):\n",
    "        l.append(\"\".join(i))\n",
    "    print(l)"
   ]
  },
  {
   "cell_type": "code",
   "execution_count": null,
   "metadata": {},
   "outputs": [],
   "source": [
    "#!/bin/python3\n",
    "\n",
    "import math\n",
    "import os\n",
    "import random\n",
    "import re\n",
    "import sys\n",
    "\n",
    "\n",
    "\n",
    "if __name__ == '__main__':\n",
    "    n = int(input().strip())\n",
    "    if (n%2!=0):\n",
    "        print(\"Weird\")\n",
    "        \n",
    "    elif(n==2 or n==4):\n",
    "        print(\"Not Weird\")\n",
    "    elif(n>=6 and n<=20):\n",
    "        print(\"Weird\")\n",
    "    else:\n",
    "        print(\"Not Weird\")"
   ]
  }
 ],
 "metadata": {
  "kernelspec": {
   "display_name": "Python 3.7.4 64-bit",
   "language": "python",
   "name": "python_defaultSpec_1596891028934"
  },
  "language_info": {
   "codemirror_mode": {
    "name": "ipython",
    "version": 3
   },
   "file_extension": ".py",
   "mimetype": "text/x-python",
   "name": "python",
   "nbconvert_exporter": "python",
   "pygments_lexer": "ipython3",
   "version": "3.7.4"
  }
 },
 "nbformat": 4,
 "nbformat_minor": 2
}