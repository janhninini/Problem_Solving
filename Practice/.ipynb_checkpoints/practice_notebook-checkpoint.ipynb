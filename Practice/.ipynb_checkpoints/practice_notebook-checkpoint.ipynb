{
 "cells": [
  {
   "cell_type": "markdown",
   "metadata": {},
   "source": []
  },
  {
   "cell_type": "code",
   "execution_count": 15,
   "metadata": {
    "tags": []
   },
   "outputs": [
    {
     "name": "stdout",
     "output_type": "stream",
     "text": [
      "1004\n"
     ]
    }
   ],
   "source": [
    "n = 1004\n",
    "n = str(n)\n",
    "n = list(n)\n",
    "for i in n:\n",
    "    if  i == \"0\":\n",
    "        i = \"5\"\n",
    "n = \"\".join(n)\n",
    "n = int(n)\n",
    "print(n)"
   ]
  },
  {
   "cell_type": "code",
   "execution_count": 16,
   "metadata": {
    "tags": []
   },
   "outputs": [
    {
     "name": "stdout",
     "output_type": "stream",
     "text": [
      "['1', '5', '5', '4']\n",
      "1554\n"
     ]
    }
   ],
   "source": [
    "n = 1004\n",
    "n = str(n)\n",
    "n = list(n)\n",
    "for i in range(len(n)):\n",
    "    if n[i] == \"0\":\n",
    "        n[i] = \"5\"\n",
    "print(n)\n",
    "n = \"\".join(n)\n",
    "n = int(n)\n",
    "print(n)"
   ]
  },
  {
   "cell_type": "code",
   "execution_count": 23,
   "metadata": {
    "tags": []
   },
   "outputs": [
    {
     "name": "stdout",
     "output_type": "stream",
     "text": [
      "68 51 34 43 39 46 48 50 51 47 47 49 48 49 52 54 54 52 51 53 51 49 49 51 52 51 50 49 50 50 49 50 50 50 49 50 51 51 52 51 50 49"
     ]
    }
   ],
   "source": [
    "t = int(input())\n",
    "for i in range(t):\n",
    "    n = int(input())\n",
    "    a = list(map(int, input().split()))\n",
    "    sum = 0\n",
    "\n",
    "    for i in range(n):\n",
    "        \n",
    "        sum = sum + a[i]\n",
    "        avg = sum//(i+1)\n",
    "        print(avg, end = \" \")\n",
    "        "
   ]
  },
  {
   "cell_type": "code",
   "execution_count": null,
   "metadata": {},
   "outputs": [],
   "source": [
    "t = int(input())\n",
    "n = int(input())\n",
    "s = input()\n",
    "b = \"abacaba\"\n",
    "m = 7\n",
    "def count(s,b,n,m):\n",
    "    if (n==0):\n",
    "        return 0\n",
    "\n",
    "    if (s[n-1] == b[m-1]):\n",
    "        return (count(s,b,n-1,m-1))\n",
    "    else:\n",
    "        return count(s,b,n-1,m)\n",
    "        "
   ]
  },
  {
   "cell_type": "code",
   "execution_count": 27,
   "metadata": {
    "tags": []
   },
   "outputs": [
    {
     "ename": "SyntaxError",
     "evalue": "invalid syntax (<ipython-input-27-a5824f25f9b6>, line 13)",
     "output_type": "error",
     "traceback": [
      "\u001b[1;36m  File \u001b[1;32m\"<ipython-input-27-a5824f25f9b6>\"\u001b[1;36m, line \u001b[1;32m13\u001b[0m\n\u001b[1;33m    else if\u001b[0m\n\u001b[1;37m          ^\u001b[0m\n\u001b[1;31mSyntaxError\u001b[0m\u001b[1;31m:\u001b[0m invalid syntax\n"
     ]
    }
   ],
   "source": [
    "t = int(input())\n",
    "n = int(input())\n",
    "s = input()\n",
    "b = \"abacaba\"\n",
    "c = 0\n",
    "cq = 0\n",
    "for i in range(n-7+1):\n",
    "    if s[i:i+7]==b:\n",
    "        c = c+1\n",
    "    \n",
    "    if s[i]==\"?\":\n",
    "        cq = cq+1\n",
    "    \n",
    "print(c)\n",
    "\n",
    "if c > 1:\n",
    "    print(\"No\")\n",
    "elif cq >= 7 and c==0:\n",
    "    print(\"yes\")\n",
    "\n"
   ]
  },
  {
   "cell_type": "code",
   "execution_count": null,
   "metadata": {},
   "outputs": [],
   "source": [
    "for i in range(int(input())):\n",
    "    c,r =map(int, input().split())\n",
    "    \n",
    "\n",
    "    q = c//9\n",
    "    s = r//9\n",
    "    if q == s and r%9 == 0:\n",
    "        print(1, s)\n",
    "    elif q == s and r%9 != 0:\n",
    "        print(1, s+1)\n",
    "    elif q<s and c%9 == 0:\n",
    "        print(0, q)\n",
    "    elif q<s and c%9 != 0:\n",
    "        print(0, q+1)\n",
    "    elif q>s and r%9 == 0:\n",
    "        print(1, s)\n",
    "    elif q>s and r%9 != 0:\n",
    "        print(1, s+1)\n"
   ]
  },
  {
   "cell_type": "code",
   "execution_count": null,
   "metadata": {},
   "outputs": [],
   "source": [
    "from itertools import permutations\n",
    "for i in range(int(input())):\n",
    "    s = input()\n",
    "    p = input()\n",
    "    l = []\n",
    "    for i in permutations(s):\n",
    "        l.append(\"\".join(i))\n",
    "    print(l)\n",
    "    \n"
   ]
  },
  {
   "cell_type": "code",
   "execution_count": null,
   "metadata": {},
   "outputs": [],
   "source": [
    "from itertools import permutations\n",
    "for i in range(int(input())):\n",
    "    s = input()\n",
    "    p = input()\n",
    "    l = []\n",
    "    for i in permutations(s):\n",
    "        l.append(\"\".join(i))\n",
    "    print(l)"
   ]
  },
  {
   "cell_type": "code",
   "execution_count": null,
   "metadata": {},
   "outputs": [],
   "source": [
    "#!/bin/python3\n",
    "\n",
    "import math\n",
    "import os\n",
    "import random\n",
    "import re\n",
    "import sys\n",
    "\n",
    "\n",
    "\n",
    "if __name__ == '__main__':\n",
    "    n = int(input().strip())\n",
    "    if (n%2!=0):\n",
    "        print(\"Weird\")\n",
    "        \n",
    "    elif(n==2 or n==4):\n",
    "        print(\"Not Weird\")\n",
    "    elif(n>=6 and n<=20):\n",
    "        print(\"Weird\")\n",
    "    else:\n",
    "        print(\"Not Weird\")"
   ]
  },
  {
   "cell_type": "code",
   "execution_count": 2,
   "metadata": {
    "tags": []
   },
   "outputs": [
    {
     "output_type": "stream",
     "name": "stdout",
     "text": "zero"
    }
   ],
   "source": [
    "nums = [\"zero\", \"one\", \"two\", \"three\", \"four\", \"five\", \"six\", \"seven\", \"eight\", \"nine\"]\n",
    "numVowels = [2, 2, 1, 2, 2, 2, 1, 2, 2, 2]\n",
    "n = int(input())\n",
    "arr = list(map(int, input().strip().split()))\n",
    "s = 0\n",
    "for i in range(n):\n",
    "    for num in str(arr[i]):\n",
    "        s = s + numVowels[int(num)]\n",
    "ans = 0\n",
    "for i in range(n-1):\n",
    "    for j in range(i+1,n):\n",
    "        if arr[i] + arr[j] == s:\n",
    "            ans += 1\n",
    "if ans <= 100:\n",
    "    print(nums[ans],end=\"\")\n",
    "else:\n",
    "    print(\"greater 100\",end=\"\")"
   ]
  },
  {
   "cell_type": "code",
   "execution_count": 5,
   "metadata": {
    "tags": []
   },
   "outputs": [
    {
     "output_type": "stream",
     "name": "stdout",
     "text": "zerozerozerozerozerozerozerozerozerozero"
    }
   ],
   "source": [
    "\n",
    "import itertools\n",
    "num2words1 = {0:'zero',1: 'One', 2: 'Two', 3: 'Three', 4: 'Four', 5: 'Five', \\\n",
    "6: 'Six', 7: 'Seven', 8: 'Eight', 9: 'Nine', 10: 'Ten', \\\n",
    "11: 'Eleven', 12: 'Twelve', 13: 'Thirteen', 14: 'Fourteen', \\\n",
    "15: 'Fifteen', 16: 'Sixteen', 17: 'Seventeen', 18: 'Eighteen', 19: 'Nineteen'}\n",
    "num2words2 = ['Twenty', 'Thirty', 'Forty', 'Fifty', 'Sixty', 'Seventy', 'Eighty', 'Ninety']\n",
    "def number(Number):\n",
    "    if 0 <= Number <= 19:\n",
    "        return num2words1[Number]\n",
    "    elif 20 <= Number <= 99:\n",
    "        tens, remainder = divmod(Number, 10)\n",
    "        return num2words2[tens - 2] + '-' + num2words1[remainder] if remainder else num2words2[tens - 2]\n",
    "    elif Number==100:\n",
    "        return \"hundred\"\n",
    "\n",
    "#num = int(input())\n",
    "#print((number(num)).lower())\n",
    "def main():\n",
    "    t = int(input())\n",
    "    a = list(map(int, input().split()))\n",
    "    count = 0\n",
    "    for i in a:\n",
    "        s= (number(i)).lower()\n",
    "    vowel = set(\"aeiou\")\n",
    "    for alphabet in s:\n",
    "        if alphabet in vowel:\n",
    "            count = count + 1\n",
    "            #print(count)\n",
    "\n",
    "    s=0\n",
    "    for result in itertools.combinations(a, 2):\n",
    "        if result[0]+result[1]==count:\n",
    "            s=s+1\n",
    "            #print(type(s1))\n",
    "        if (s)>100:\n",
    "            print(str(\"greater 100\"),end=\"\")\n",
    "        else:\n",
    "        #print()\n",
    "            print(str(number((s)).lower()),end=\"\")\n",
    "        #print()\n",
    "\n",
    "main()"
   ]
  },
  {
   "cell_type": "code",
   "execution_count": 14,
   "metadata": {
    "tags": []
   },
   "outputs": [
    {
     "output_type": "stream",
     "name": "stdout",
     "text": "zero"
    }
   ],
   "source": [
    "from num2words import num2words\n",
    "n = int(input())\n",
    "a = list(map(int, input().split()))\n",
    "D = 0\n",
    "vowels = ['a','e','i','o','u']\n",
    "s = 0\n",
    "l = []\n",
    "for i in a:\n",
    "    if i==100:\n",
    "        l.append(\"hundred\")\n",
    "    else:\n",
    "        l.append(num2words(i))\n",
    "\n",
    "\n",
    "for i in l:\n",
    "    for j in i:\n",
    "        if j in vowels:\n",
    "            s = s+1\n",
    "ans = 0\n",
    "for i in range(n-1):\n",
    "    for j in range(i+1,n):\n",
    "        if a[i] + a[j] == s:\n",
    "            ans += 1\n",
    "if ans < 100:\n",
    "    print(nums[ans],end=\"\")\n",
    "elif ans == 100:\n",
    "    print(\"hundred\", end =\"\")\n",
    "else:\n",
    "    print(\"greater 100\",end=\"\")\n",
    "\n"
   ]
  },
  {
   "cell_type": "code",
   "execution_count": 12,
   "metadata": {
    "tags": []
   },
   "outputs": [
    {
     "output_type": "stream",
     "name": "stdout",
     "text": "one hundred\n"
    }
   ],
   "source": [
    "from num2words import num2words\n",
    "print(num2words(100))"
   ]
  },
  {
   "cell_type": "code",
   "execution_count": null,
   "metadata": {},
   "outputs": [],
   "source": [
    "n = int(input())\n",
    "chars = input().strip()\n",
    "charIndices = []\n",
    "charArray = []\n",
    "aSupp = 0\n",
    "bSupp = 0\n",
    "for i in range(n):\n",
    "    char = chars[i]\n",
    "    if char != \"-\":\n",
    "        if char == 'A':\n",
    "            aSupp += 1\n",
    "        else:\n",
    "            bSupp += 1\n",
    "        charIndices.append(i)\n",
    "        charArray.append(char)\n",
    "lenChars = len(charArray)\n",
    "if charArray[0] == 'A':\n",
    "    aSupp += charIndices[0]\n",
    "if charArray[lenChars-1] == 'B':\n",
    "    bSupp += (n-1-charIndices[lenChars-1])\n",
    " \n",
    "if lenChars > 1:\n",
    "    for i in range(1, lenChars):\n",
    "        if charArray[i-1] == 'A' and charArray[i] == 'A':\n",
    "            gap = charIndices[i] - charIndices[i-1] - 1\n",
    "            aSupp += gap\n",
    "        elif charArray[i-1] == 'A' and charArray[i] == 'B':\n",
    "            gap = charIndices[i] - charIndices[i-1] - 1\n",
    "        elif charArray[i-1] == 'B' and charArray[i] == 'A':\n",
    "            gap = charIndices[i] - charIndices[i-1] - 1\n",
    "            aSupp += gap//2\n",
    "            bSupp += gap//2\n",
    "        elif charArray[i-1] == 'B' and charArray[i] == 'B':\n",
    "            gap = charIndices[i] - charIndices[i-1] - 1\n",
    "            bSupp += gap\n",
    " \n",
    "if aSupp > bSupp:\n",
    "    print(\"A\",end=\"\")\n",
    "elif aSupp < bSupp:\n",
    "    print(\"B\",end=\"\")\n",
    "else:\n",
    "    print(\"Coalition government\",end=\"\")"
   ]
  },
  {
   "cell_type": "code",
   "execution_count": 19,
   "metadata": {
    "tags": []
   },
   "outputs": [
    {
     "output_type": "stream",
     "name": "stdout",
     "text": "one"
    }
   ],
   "source": [
    "\n",
    "n = int(input())\n",
    "a = list(map(int, input().split()))\n",
    "D = 0\n",
    "names = ['zero', 'one', 'two', 'three', 'four', 'five', 'six', 'seven', 'eight', 'nine', 'ten', 'eleven', 'twelve', 'thirteen', 'fourteen', 'fifteen', 'sixteen', 'seventeen', 'eighteen', 'nineteen', 'twenty', 'twenty-one', 'twenty-two', 'twenty-three', 'twenty-four', 'twenty-five', 'twenty-six', 'twenty-seven', 'twenty-eight', 'twenty-nine', 'thirty', 'thirty-one', 'thirty-two', 'thirty-three', 'thirty-four', 'thirty-five', 'thirty-six', 'thirty-seven', 'thirty-eight', 'thirty-nine', 'forty', 'forty-one', 'forty-two', 'forty-three', 'forty-four', 'forty-five', 'forty-six', 'forty-seven', 'forty-eight', 'forty-nine', 'fifty', 'fifty-one', 'fifty-two', 'fifty-three', 'fifty-four', 'fifty-five', 'fifty-six', 'fifty-seven', 'fifty-eight', 'fifty-nine', 'sixty', 'sixty-one', 'sixty-two', 'sixty-three', 'sixty-four', 'sixty-five', 'sixty-six', 'sixty-seven', 'sixty-eight', 'sixty-nine', 'seventy', 'seventy-one', 'seventy-two', 'seventy-three', 'seventy-four', 'seventy-five', 'seventy-six', 'seventy-seven', 'seventy-eight', 'seventy-nine', 'eighty', 'eighty-one', 'eighty-two', 'eighty-three', 'eighty-four', 'eighty-five', 'eighty-six', 'eighty-seven', 'eighty-eight', 'eighty-nine', 'ninety', 'ninety-one', 'ninety-two', 'ninety-three', 'ninety-four', 'ninety-five', 'ninety-six', 'ninety-seven', 'ninety-eight', 'ninety-nine', 'hundred']\n",
    "vowels = ['a','e','i','o','u']\n",
    "l = []\n",
    "for i in a:\n",
    "        l.append(names[i])\n",
    "\n",
    "\n",
    "for i in l:\n",
    "    for j in i:\n",
    "        if j in vowels:\n",
    "            D = D+1\n",
    "ans = 0\n",
    "for i in range(n-1):\n",
    "    for j in range(i+1,n):\n",
    "        if a[i] + a[j] == D:\n",
    "            ans += 1\n",
    "if ans <= 100:\n",
    "    print(names[ans],end=\"\")\n",
    "else:\n",
    "    print(\"greater 100\",end=\"\")\n",
    "\n"
   ]
  },
  {
   "cell_type": "code",
   "execution_count": 18,
   "metadata": {
    "tags": []
   },
   "outputs": [
    {
     "output_type": "stream",
     "name": "stdout",
     "text": "['zero', 'one', 'two', 'three', 'four', 'five', 'six', 'seven', 'eight', 'nine', 'ten', 'eleven', 'twelve', 'thirteen', 'fourteen', 'fifteen', 'sixteen', 'seventeen', 'eighteen', 'nineteen', 'twenty', 'twenty-one', 'twenty-two', 'twenty-three', 'twenty-four', 'twenty-five', 'twenty-six', 'twenty-seven', 'twenty-eight', 'twenty-nine', 'thirty', 'thirty-one', 'thirty-two', 'thirty-three', 'thirty-four', 'thirty-five', 'thirty-six', 'thirty-seven', 'thirty-eight', 'thirty-nine', 'forty', 'forty-one', 'forty-two', 'forty-three', 'forty-four', 'forty-five', 'forty-six', 'forty-seven', 'forty-eight', 'forty-nine', 'fifty', 'fifty-one', 'fifty-two', 'fifty-three', 'fifty-four', 'fifty-five', 'fifty-six', 'fifty-seven', 'fifty-eight', 'fifty-nine', 'sixty', 'sixty-one', 'sixty-two', 'sixty-three', 'sixty-four', 'sixty-five', 'sixty-six', 'sixty-seven', 'sixty-eight', 'sixty-nine', 'seventy', 'seventy-one', 'seventy-two', 'seventy-three', 'seventy-four', 'seventy-five', 'seventy-six', 'seventy-seven', 'seventy-eight', 'seventy-nine', 'eighty', 'eighty-one', 'eighty-two', 'eighty-three', 'eighty-four', 'eighty-five', 'eighty-six', 'eighty-seven', 'eighty-eight', 'eighty-nine', 'ninety', 'ninety-one', 'ninety-two', 'ninety-three', 'ninety-four', 'ninety-five', 'ninety-six', 'ninety-seven', 'ninety-eight', 'ninety-nine', 'one hundred']\n"
    }
   ],
   "source": [
    "from num2words import num2words \n",
    "l = []\n",
    "for i in range(0,101):\n",
    "    l.append(num2words(i))\n",
    "print(l)"
   ]
  },
  {
   "cell_type": "code",
   "execution_count": null,
   "metadata": {},
   "outputs": [],
   "source": []
  }
 ],
 "metadata": {
  "kernelspec": {
   "display_name": "Python 3.7.4 64-bit",
   "language": "python",
   "name": "python_defaultSpec_1597551360869"
  },
  "language_info": {
   "codemirror_mode": {
    "name": "ipython",
    "version": 3
   },
   "file_extension": ".py",
   "mimetype": "text/x-python",
   "name": "python",
   "nbconvert_exporter": "python",
   "pygments_lexer": "ipython3",
   "version": "3.7.4-final"
  }
 },
 "nbformat": 4,
 "nbformat_minor": 2
}