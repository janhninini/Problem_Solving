{
 "metadata": {
  "language_info": {
   "codemirror_mode": {
    "name": "ipython",
    "version": 3
   },
   "file_extension": ".py",
   "mimetype": "text/x-python",
   "name": "python",
   "nbconvert_exporter": "python",
   "pygments_lexer": "ipython3",
   "version": 3
  },
  "orig_nbformat": 2,
  "kernelspec": {
   "name": "python_defaultSpec_1595917138600",
   "display_name": "Python 3.7.4 64-bit"
  }
 },
 "nbformat": 4,
 "nbformat_minor": 2,
 "cells": [
  {
   "cell_type": "code",
   "execution_count": 15,
   "metadata": {
    "tags": []
   },
   "outputs": [
    {
     "output_type": "stream",
     "name": "stdout",
     "text": ".b.c.b\n"
    }
   ],
   "source": [
    "s = input()\n",
    "s = s.lower()\n",
    "l = list(s)\n",
    "v = ['a','e','o','u','i','y']\n",
    "for i in s:\n",
    "    if i in v:\n",
    "        l.remove(i)\n",
    "for i in range(0,len(l)*2,2):\n",
    "    l.insert(i,\".\")\n",
    "print(\"\".join(l))"
   ]
  },
  {
   "cell_type": "code",
   "execution_count": 2,
   "metadata": {
    "tags": []
   },
   "outputs": [
    {
     "output_type": "stream",
     "name": "stdout",
     "text": "['a', 'b', 's', 'd', 'f']\n"
    }
   ],
   "source": [
    "a = \"absdf\"\n",
    "b = list(a)\n",
    "print(b)"
   ]
  },
  {
   "cell_type": "code",
   "execution_count": null,
   "metadata": {},
   "outputs": [],
   "source": [
    "while True:\n",
    "    t = int(input())\n",
    "    if t == 42:\n",
    "        break\n",
    "    print(t)"
   ]
  },
  {
   "cell_type": "code",
   "execution_count": null,
   "metadata": {},
   "outputs": [],
   "source": [
    "while 1:\n",
    "    t = int(input())\n",
    "    if t == 42:\n",
    "        break\n",
    "    print(t)"
   ]
  },
  {
   "cell_type": "code",
   "execution_count": null,
   "metadata": {},
   "outputs": [],
   "source": [
    "for i in range(int(input())):\n",
    "    h,p = map(int, input().split())\n",
    "    while(h>0 and p>0):\n",
    "        h = h-p\n",
    "        p = p//2\n",
    "    if h>0 and p<=0:\n",
    "        print(0)\n",
    "    else:\n",
    "        print(1)\n",
    "\n"
   ]
  },
  {
   "cell_type": "code",
   "execution_count": null,
   "metadata": {},
   "outputs": [],
   "source": [
    "for i in range(int(input())):\n",
    "    n,k = map(int, input().split())\n",
    "    p = list(map(int, input().split()))\n",
    "    m = []\n",
    "    c = 0\n",
    "    j = 0\n",
    "    for i in range(n):\n",
    "        if p[i]<=(k/2) and k%p[i]==0:\n",
    "            m.append(p[i])\n",
    "    if m == []:\n",
    "        print(-1)\n",
    "    else:\n",
    "        print(max(m))\n",
    "\n",
    "    \n",
    "     \n",
    "        \n"
   ]
  },
  {
   "cell_type": "code",
   "execution_count": null,
   "metadata": {},
   "outputs": [],
   "source": [
    "for i in range(int(input())):\n",
    "    c,r =map(int, input().split())\n",
    "    \n",
    "\n",
    "    q = c//9\n",
    "    s = r//9\n",
    "    if q == s and r%9 == 0:\n",
    "        print(1, s)\n",
    "    elif q == s and r%9 != 0:\n",
    "        print(1, s+1)\n",
    "    elif q<s and c%9 == 0:\n",
    "        print(0, q)\n",
    "    elif q<s and c%9 != 0:\n",
    "        print(0, q+1)\n",
    "    elif q>s and r%9 == 0:\n",
    "        print(1, s)\n",
    "    elif q>s and r%9 != 0:\n",
    "        print(1, s+1)\n",
    "    \n",
    "\n",
    "\n"
   ]
  },
  {
   "cell_type": "code",
   "execution_count": null,
   "metadata": {},
   "outputs": [],
   "source": [
    "al=list(map(chr, range(97, 123)))\n",
    "\n",
    "for _ in range(int(input())):\n",
    "    c=[0, 0, 0, 0, 0, 0, 0, 0, 0, 0, 0, 0, 0, 0, 0, 0, 0, 0, 0, 0, 0, 0, 0, 0, 0, 0]\n",
    "    s=input()\n",
    "    p=input()\n",
    "    result=\"\"\n",
    "    for i in s:\n",
    "        x=al.index(i)\n",
    "        c[x]+=1\n",
    "    for i in p:\n",
    "        x=al.index(i)\n",
    "        c[x]-=1\n",
    "    s=\"\"    \n",
    "    for i in range(26):\n",
    "        \n",
    "        s=s+al[i]*c[i]\n",
    "    min=p+s\n",
    "    for i in range(len(s)+2):\n",
    "        x=s[:i]+p+s[i:]\n",
    "        if(x<min):\n",
    "            min=x\n",
    "    \n",
    "    print(min)"
   ]
  },
  {
   "cell_type": "code",
   "execution_count": null,
   "metadata": {},
   "outputs": [],
   "source": [
    "#code\n",
    "for _ in range(int(input())):\n",
    "    n = int(input())\n",
    "    a = [2,3,5,7,22,23,25,27,32,33,35,37,52,53,55,57,72,73,75,77,222,223,225,227,232,\n",
    "233,235,237,252,253,255,257,272,273,275,277,322,323,325,327,332,333,335,\n",
    "\n",
    "337,352,353,355,357,372,373,375,377,522,523,525,527,532,533,535,537,552,\n",
    "\n",
    "553,555,557,572,573,575,577,722,723,725,727,732,733,735,737,752,753,755,\n",
    "\n",
    "757,772,773,775,777,2222,2223,2225,2227,2232,2233,2235,2237,2252,2253,\n",
    "\n",
    "2255,2257,2272,2273,2275,2277]\n",
    "    print(a[n-1])\n",
    "            "
   ]
  },
  {
   "cell_type": "code",
   "execution_count": null,
   "metadata": {},
   "outputs": [],
   "source": [
    "#code\n",
    "t = int(input())\n",
    "for _ in range(t):\n",
    "    n = int(input())\n",
    "    a = list(map(int, input().split()))\n",
    "    b = list(map(int, input().split()))\n",
    "    i = 0\n",
    "    j = 0\n",
    "    l = []\n",
    "    while(i<n and j<n):\n",
    "        if a[i]<b[j]:\n",
    "            l.append(a[i])\n",
    "            i += 1\n",
    "        else:\n",
    "            l.append(b[j])\n",
    "            j = j+1\n",
    "    print(l[n-1]+l[n])"
   ]
  },
  {
   "cell_type": "code",
   "execution_count": null,
   "metadata": {},
   "outputs": [],
   "source": [
    "void interchange(int r,int c)\n",
    "{\n",
    "    //Your code here\n",
    "  \n",
    "  //Printing the modified matrix\n",
    "    for(int i=0;i<r;i++)\n",
    "\t   { \n",
    "\t       for(int j=0;j<c;j++)\n",
    "    \t    {\n",
    "    \t        cout<<arr[i][j]<<\" \";\n",
    "    \t        \n",
    "    \t    }\n",
    "    \t cout<<endl;\n",
    "\t   }\n",
    "}\n",
    "\n",
    "\n",
    "// { Driver Code Starts.\n",
    "int main() {\n",
    "\tint t;\n",
    "\tcin>>t;\n",
    "\twhile(t--)\n",
    "\t{\n",
    "\t    int r,c;\n",
    "\t    cin>>r>>c;\n",
    "\t    for(int i=0;i<r;i++)\n",
    "\t    for(int j=0;j<c;j++)\n",
    "\t    cin>>arr[i][j];\n",
    "\t    \n",
    "\t    \n",
    "\t    interchange( r, c);\n",
    "\t}\n",
    "\treturn 0;\n",
    "}\n",
    "\n",
    "  // } Driver Code Ends"
   ]
  }
 ]
}