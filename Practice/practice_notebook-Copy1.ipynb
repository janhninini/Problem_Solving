{
 "cells": [
  {
   "cell_type": "markdown",
   "metadata": {},
   "source": []
  },
  {
   "cell_type": "code",
   "execution_count": 2,
   "metadata": {},
   "outputs": [
    {
     "ename": "TypeError",
     "evalue": "object of type 'int' has no len()",
     "output_type": "error",
     "traceback": [
      "\u001b[1;31m---------------------------------------------------------------------------\u001b[0m",
      "\u001b[1;31mTypeError\u001b[0m                                 Traceback (most recent call last)",
      "\u001b[1;32m<ipython-input-2-ab9ae9ba42be>\u001b[0m in \u001b[0;36m<module>\u001b[1;34m\u001b[0m\n\u001b[0;32m      1\u001b[0m \u001b[0mn\u001b[0m \u001b[1;33m=\u001b[0m \u001b[1;36m1004\u001b[0m\u001b[1;33m\u001b[0m\u001b[1;33m\u001b[0m\u001b[0m\n\u001b[1;32m----> 2\u001b[1;33m \u001b[0mprint\u001b[0m\u001b[1;33m(\u001b[0m\u001b[0mlen\u001b[0m\u001b[1;33m(\u001b[0m\u001b[0mn\u001b[0m\u001b[1;33m)\u001b[0m\u001b[1;33m)\u001b[0m\u001b[1;33m\u001b[0m\u001b[1;33m\u001b[0m\u001b[0m\n\u001b[0m",
      "\u001b[1;31mTypeError\u001b[0m: object of type 'int' has no len()"
     ]
    }
   ],
   "source": [
    "n = 1004\n",
    "while(n>0):\n",
    "    r = n % 10\n",
    "    n = n//10\n",
    "    if r == 0:\n",
    "        "
   ]
  },
  {
   "cell_type": "code",
   "execution_count": 15,
   "metadata": {
    "tags": []
   },
   "outputs": [
    {
     "name": "stdout",
     "output_type": "stream",
     "text": [
      "1004\n"
     ]
    }
   ],
   "source": [
    "n = 1004\n",
    "n = str(n)\n",
    "n = list(n)\n",
    "for i in n:\n",
    "    if  i == \"0\":\n",
    "        i = \"5\"\n",
    "n = \"\".join(n)\n",
    "n = int(n)\n",
    "print(n)"
   ]
  },
  {
   "cell_type": "code",
   "execution_count": 16,
   "metadata": {
    "tags": []
   },
   "outputs": [
    {
     "name": "stdout",
     "output_type": "stream",
     "text": [
      "['1', '5', '5', '4']\n",
      "1554\n"
     ]
    }
   ],
   "source": [
    "n = 1004\n",
    "n = str(n)\n",
    "n = list(n)\n",
    "for i in range(len(n)):\n",
    "    if n[i] == \"0\":\n",
    "        n[i] = \"5\"\n",
    "print(n)\n",
    "n = \"\".join(n)\n",
    "n = int(n)\n",
    "print(n)"
   ]
  },
  {
   "cell_type": "code",
   "execution_count": 23,
   "metadata": {
    "tags": []
   },
   "outputs": [
    {
     "name": "stdout",
     "output_type": "stream",
     "text": [
      "68 51 34 43 39 46 48 50 51 47 47 49 48 49 52 54 54 52 51 53 51 49 49 51 52 51 50 49 50 50 49 50 50 50 49 50 51 51 52 51 50 49"
     ]
    }
   ],
   "source": [
    "t = int(input())\n",
    "for i in range(t):\n",
    "    n = int(input())\n",
    "    a = list(map(int, input().split()))\n",
    "    sum = 0\n",
    "\n",
    "    for i in range(n):\n",
    "        \n",
    "        sum = sum + a[i]\n",
    "        avg = sum//(i+1)\n",
    "        print(avg, end = \" \")\n",
    "        "
   ]
  },
  {
   "cell_type": "code",
   "execution_count": null,
   "metadata": {},
   "outputs": [],
   "source": [
    "t = int(input())\n",
    "n = int(input())\n",
    "s = input()\n",
    "b = \"abacaba\"\n",
    "m = 7\n",
    "def count(s,b,n,m):\n",
    "    if (n==0):\n",
    "        return 0\n",
    "\n",
    "    if (s[n-1] == b[m-1]):\n",
    "        return (count(s,b,n-1,m-1))\n",
    "    else:\n",
    "        return count(s,b,n-1,m)\n",
    "        "
   ]
  },
  {
   "cell_type": "code",
   "execution_count": 27,
   "metadata": {
    "tags": []
   },
   "outputs": [
    {
     "ename": "SyntaxError",
     "evalue": "invalid syntax (<ipython-input-27-a5824f25f9b6>, line 13)",
     "output_type": "error",
     "traceback": [
      "\u001b[1;36m  File \u001b[1;32m\"<ipython-input-27-a5824f25f9b6>\"\u001b[1;36m, line \u001b[1;32m13\u001b[0m\n\u001b[1;33m    else if\u001b[0m\n\u001b[1;37m          ^\u001b[0m\n\u001b[1;31mSyntaxError\u001b[0m\u001b[1;31m:\u001b[0m invalid syntax\n"
     ]
    }
   ],
   "source": [
    "t = int(input())\n",
    "n = int(input())\n",
    "s = input()\n",
    "b = \"abacaba\"\n",
    "c = 0\n",
    "cq = 0\n",
    "for i in range(n-7+1):\n",
    "    if s[i:i+7]==b:\n",
    "        c = c+1\n",
    "    \n",
    "    if s[i]==\"?\":\n",
    "        cq = cq+1\n",
    "    \n",
    "print(c)\n",
    "\n",
    "if c > 1:\n",
    "    print(\"No\")\n",
    "elif cq >= 7 and c==0:\n",
    "    print(\"yes\")\n",
    "\n"
   ]
  },
  {
   "cell_type": "code",
   "execution_count": null,
   "metadata": {},
   "outputs": [],
   "source": [
    "import numpy as np\n",
    "t = int(input())\n",
    "for _ in range(t):\n",
    "    m,n = map(int, input().split())\n",
    "    a = list(map(int, input().split()))\n",
    "    mat = np.array(a).reshape(m,n)\n",
    "    if 1 not in a:\n",
    "        print(-1)\n",
    "    else:\n",
    "        i = 0\n",
    "        c = []\n",
    "        \n",
    "        for i in range(m):\n",
    "            count = 0\n",
    "            for j in range(n):\n",
    "                if mat[i][j] == 1:\n",
    "                    count +=1\n",
    "                    \n",
    "            if count == 0:\n",
    "                c.append(9999)\n",
    "            else:\n",
    "                c.append(count)\n",
    "        \n",
    "        t = c.index(min(c))\n",
    "        print(t)\n",
    "        \n",
    "        \n",
    "        \n",
    "        "
   ]
  }
 ],
 "metadata": {
  "kernelspec": {
   "display_name": "Python 3.7.4 64-bit",
   "language": "python",
   "name": "python_defaultSpec_1600251951999"
  },
  "language_info": {
   "codemirror_mode": {
    "name": "ipython",
    "version": 3
   },
   "file_extension": ".py",
   "mimetype": "text/x-python",
   "name": "python",
   "nbconvert_exporter": "python",
   "pygments_lexer": "ipython3",
   "version": "3.7.4-final"
  }
 },
 "nbformat": 4,
 "nbformat_minor": 2
}